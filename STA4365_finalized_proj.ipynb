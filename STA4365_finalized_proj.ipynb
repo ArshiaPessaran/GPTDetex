{
  "cells": [
    {
      "cell_type": "markdown",
      "id": "4a170038",
      "metadata": {
        "id": "4a170038"
      },
      "source": [
        "## Project\n",
        "### Human vs ChatGPT\n",
        "#### Satyar Foroughi,  April 2023"
      ]
    },
    {
      "cell_type": "code",
      "execution_count": null,
      "id": "20af25c8",
      "metadata": {
        "id": "20af25c8"
      },
      "outputs": [],
      "source": [
        "# In order to run this notebook in google collab\n",
        "# you need to run the following commands\n",
        "\n",
        "# !pip install datasets\n",
        "\n",
        "# !pip install torchtext==0.6.0  # newer versions of torchtext changed some libraries and\n",
        "                                 # I couldn't figure out how to use them."
      ]
    },
    {
      "cell_type": "code",
      "execution_count": null,
      "id": "75452043",
      "metadata": {
        "id": "75452043"
      },
      "outputs": [],
      "source": [
        "import numpy as np\n",
        "import pandas as pd\n",
        "import json\n",
        "import torch\n",
        "import torchtext\n",
        "import torch.nn as nn\n",
        "import torch.nn.functional as F\n",
        "import spacy\n",
        "import matplotlib.pyplot as plt\n",
        "import time\n",
        "import random\n",
        "from torchtext.data.utils import get_tokenizer\n",
        "from datasets import load_dataset\n",
        "from sklearn.model_selection import train_test_split\n",
        "from torch.utils.data import Dataset, DataLoader\n",
        "from nltk.tokenize import word_tokenize\n",
        "from nltk.corpus import stopwords"
      ]
    },
    {
      "cell_type": "code",
      "execution_count": null,
      "id": "c2160041",
      "metadata": {
        "id": "c2160041"
      },
      "outputs": [],
      "source": [
        "# Basic RNN which was used\n",
        "class RNN(torch.nn.Module):\n",
        "    '''\n",
        "    Basic RNN (LSTM) with 1 hidden layer.\n",
        "    '''\n",
        "    \n",
        "    def __init__(self, input_dim, embedding_dim, hidden_dim, output_dim):\n",
        "        super().__init__()\n",
        "        self.embedding = torch.nn.Embedding(input_dim, embedding_dim)\n",
        "        self.rnn = torch.nn.LSTM(embedding_dim,\n",
        "                                 hidden_dim)        \n",
        "        self.fc = torch.nn.Linear(hidden_dim, output_dim)\n",
        "        \n",
        "    def forward(self, answer):\n",
        "        embedded = self.embedding(answer)\n",
        "        output, (hidden, cell) = self.rnn(embedded)\n",
        "        hidden.squeeze_(0)\n",
        "        output = self.fc(hidden)\n",
        "        return output"
      ]
    },
    {
      "cell_type": "code",
      "execution_count": null,
      "id": "42e6c687",
      "metadata": {
        "id": "42e6c687"
      },
      "outputs": [],
      "source": [
        "# A bit more complicated RNN, which was not used due to GPU limits\n",
        "# Performance is not known due to the limit\n",
        "class RNN_2(torch.nn.Module):\n",
        "    '''\n",
        "    RNN (LSTM) with 2 bidirectional hidden layers with dropout rate\n",
        "    '''\n",
        "    def __init__(self, input_dim, embedding_dim, hidden_dim, output_dim, n_layers, dropout_rate):\n",
        "        super().__init__()\n",
        "        self.embedding = torch.nn.Embedding(input_dim, embedding_dim)\n",
        "        self.rnn = torch.nn.LSTM(embedding_dim,\n",
        "                                 hidden_dim,\n",
        "                                 num_layers=n_layers,\n",
        "                                 bidirectional=True,\n",
        "                                 dropout=dropout_rate if n_layers > 1 else 0)\n",
        "        self.fc = torch.nn.Linear(hidden_dim * 2, output_dim) \n",
        "        self.dropout = torch.nn.Dropout(dropout_rate)\n",
        "\n",
        "    def forward(self, answer):\n",
        "        embedded = self.dropout(self.embedding(answer))\n",
        "        output, (hidden, cell) = self.rnn(embedded)\n",
        "        hidden = torch.cat((hidden[-2, :, :], hidden[-1, :, :]), dim=1)        \n",
        "        output = self.fc(self.dropout(hidden))\n",
        "        return output"
      ]
    },
    {
      "cell_type": "code",
      "execution_count": null,
      "id": "8e6bc539",
      "metadata": {
        "id": "8e6bc539"
      },
      "outputs": [],
      "source": [
        "def count_special_chars(df, replace=False):\n",
        "    \"\"\"\n",
        "    Counts the number of rows in a DataFrame that contain special characters in the 'answer' or 'question' columns.\n",
        "    If replace=True, replaces special characters. Returns the numbers respectively.\n",
        "    \"\"\"\n",
        "    \n",
        "    if (replace==True):\n",
        "        # replace special characters in 'answer' column\n",
        "        df['answer'] = df['answer'].str.replace('\\n', ' ')\n",
        "        df['answer'] = df['answer'].str.replace('\\t', ' ')\n",
        "        df['answer'] = df['answer'].str.replace('\\r', '')\n",
        "        df['answer'] = df['answer'].str.replace('\\u202f', ' ')\n",
        "        \n",
        "        # replace special characters in 'question' column\n",
        "        df['question'] = df['question'].str.replace('\\n', ' ')\n",
        "        df['question'] = df['question'].str.replace('\\t', ' ')\n",
        "        df['question'] = df['question'].str.replace('\\r', '')\n",
        "        df['question'] = df['question'].str.replace('\\u202f', ' ')\n",
        "        \n",
        "                # new-line\n",
        "    mask_hum = ((df['answer'].str.contains('\\n'))\n",
        "                # tab\n",
        "                | (df['answer'].str.contains('\\t'))\n",
        "                # carriage return\n",
        "                | (df['answer'].str.contains('\\r'))\n",
        "                # narrow no-break space\n",
        "                | (df['answer'].str.contains('\\u202f'))) & (df['target'] == 0)\n",
        "\n",
        "    mask_gpt = ((df['answer'].str.contains('\\n'))\n",
        "                | (df['answer'].str.contains('\\t'))\n",
        "                | (df['answer'].str.contains('\\r'))\n",
        "                | (df['answer'].str.contains('\\u202f'))) & (df['target'] == 1)\n",
        "\n",
        "    mask_ques = ((df['question'].str.contains('\\n'))\n",
        "                 | (df['question'].str.contains('\\t'))\n",
        "                 | (df['question'].str.contains('\\r'))\n",
        "                 | (df['question'].str.contains('\\u202f')))\n",
        "    \n",
        "\n",
        "    print(\"human answers with special characters:\", len(df[mask_hum]))\n",
        "    print(\"chatgpt answers with special characters:\", len(df[mask_gpt]))\n",
        "    print(\"questions with special characters:\", len(df[mask_ques]))\n",
        "    \n",
        "    return len(df[mask_hum]), len(df[mask_gpt]), len(df[mask_ques])"
      ]
    },
    {
      "cell_type": "code",
      "execution_count": null,
      "id": "dbad0b06",
      "metadata": {
        "id": "dbad0b06"
      },
      "outputs": [],
      "source": [
        "def get_accuracy(model, data_loader, device):\n",
        "    '''\n",
        "    Compute the accuracy of the given model, with the given data.\n",
        "    '''\n",
        "\n",
        "    with torch.no_grad():\n",
        "        total_accuracy, num_batches = 0, 0\n",
        "        correct_pred, num_examples = 0, 0\n",
        "\n",
        "        for _, batch in enumerate(data_loader):\n",
        "\n",
        "            answer, _ = batch.answer\n",
        "            target = batch.target.to(device)\n",
        "\n",
        "            odds = model(answer)\n",
        "            probs = torch.sigmoid(odds)\n",
        "            predicted_labels = (probs > 0.5).float()\n",
        "\n",
        "            # Convert tensors to NumPy arrays for easier operations\n",
        "            predicted_labels_np = predicted_labels.cpu().numpy()\n",
        "            target_np = target.cpu().numpy()\n",
        "            \n",
        "            # Calculate accuracy for the current batch\n",
        "            corrects = [1 for i, pred in enumerate(predicted_labels_np) if (target_np[i]==pred)]\n",
        "            correct_pred = sum(corrects)\n",
        "            num_examples = target_np.shape[0]\n",
        "\n",
        "            batch_accuracy = (correct_pred / num_examples) * 100\n",
        "\n",
        "            total_accuracy += batch_accuracy\n",
        "            num_batches += 1\n",
        "\n",
        "    return total_accuracy / num_batches\n"
      ]
    },
    {
      "cell_type": "code",
      "execution_count": null,
      "id": "a442f195",
      "metadata": {
        "colab": {
          "base_uri": "https://localhost:8080/",
          "height": 174
        },
        "id": "a442f195",
        "outputId": "80630081-7210-417a-8515-b414f0f7aac1"
      },
      "outputs": [
        {
          "data": {
            "application/vnd.google.colaboratory.intrinsic+json": {
              "type": "string"
            },
            "text/plain": [
              "'\\nclass RNN(torch.nn.Module):\\n\\n    def __init__(self, input_dim_q, input_dim_a, embedding_dim, hidden_dim, output_dim):\\n        super().__init__()\\n\\n        self.embedding_question = torch.nn.Embedding(input_dim_q, embedding_dim)\\n        self.embedding_answer = torch.nn.Embedding(input_dim_a, embedding_dim)\\n        self.rnn = torch.nn.LSTM(embedding_dim,\\n                                 hidden_dim)        \\n        self.fc = torch.nn.Linear(hidden_dim, output_dim)\\n\\n    def forward(self, question, question_length, answer, answer_length):        \\n        embedded_question = self.embedding_question(question)        \\n        embedded_answer = self.embedding_answer(answer)        \\n        embedded = torch.cat((embedded_question, embedded_answer), dim=0)        \\n        sorted_lengths, sorted_idx = torch.sort(question_length + answer_length, descending=True)\\n        embedded = embedded[:, sorted_idx]        \\n        packed = torch.nn.utils.rnn.pack_padded_sequence(embedded, sorted_lengths.to(\\'cpu\\'))\\n        packed_output, (hidden, cell) = self.rnn(packed)\\n        hidden.squeeze_(0)        \\n        _, original_idx = torch.sort(sorted_idx)\\n        output = self.fc(hidden[original_idx])\\n        return output\\n        \\ndef get_accuracy(model, data_loader, device):\\n\\n    with torch.no_grad():\\n        total_accuracy, num_batches = 0, 0\\n        correct_pred, num_examples = 0, 0\\n\\n\\n        for _, batch in enumerate(data_loader):\\n\\n            question, question_length = batch.question\\n            answer, answer_length = batch.answer\\n            target = batch.target.to(device)\\n\\n            odds = model(question, question_length, answer, answer_length)\\n            probs = torch.sigmoid(odds)\\n            predicted_labels = (probs > 0.5).float()\\n\\n            predicted_labels_np = predicted_labels.cpu().numpy()\\n            target_np = target.cpu().numpy()\\n\\n            corrects = [1 for i, pred in enumerate(predicted_labels_np) if (target_np[i]==pred)]\\n            correct_pred = sum(corrects)\\n            num_examples = target_np.shape[0]\\n\\n            batch_accuracy = (correct_pred / num_examples) * 100\\n\\n            total_accuracy += batch_accuracy\\n            num_batches += 1\\n\\n    return total_accuracy / num_batches\\n    \\n    \\ninput_dim_q = len(question_field.vocab)\\ninput_dim_a = len(answer_field.vocab)\\n\\nmodel = RNN(input_dim_q=input_dim_q,\\n            input_dim_a=input_dim_a,\\n            embedding_dim=params[\\'emb_dim\\'],\\n            hidden_dim=params[\\'hid_dim\\'],\\n            output_dim=params[\\'out_dim\\'] # could use 1 for binary classification\\n)\\n\\n\\n\\nmodel = model.to(DEVICE)\\noptimizer = torch.optim.Adam(model.parameters(), lr=params[\\'lr\\'])\\n\\nstart_time = time.time()\\nn_ep = params[\\'epochs\\']\\n\\nfor epoch in range(params[\\'epochs\\']):\\n    model.train()\\n    for batch_id, batch_data in enumerate(train_loader):\\n        \\n        question, q_length = batch_data.question\\n        answer, a_length = batch_data.answer\\n        target = batch_data.target.to(DEVICE)\\n\\n        odds = model(question, q_length, answer, a_length)\\n        probs = torch.sigmoid(odds)\\n        predicted_labels = (probs > 0.5).float()\\n        loss = nn.BCEWithLogitsLoss()(odds, target.unsqueeze(1).to(odds.dtype))\\n        optimizer.zero_grad()\\n        \\n        loss.backward()\\n        \\n        optimizer.step()\\n        \\n        if not batch_id % 50:\\n            print (f\\'Epoch: {epoch+1:03d}/{n_ep:03d} | \\'\\n                   f\\'Batch {batch_id:03d}/{len(train_loader):03d} | \\'\\n                   f\\'Loss: {loss:.4f}\\')\\n            \\n            predicted_labels_np = predicted_labels.cpu().numpy()\\n            target_np = target.cpu().numpy()\\n\\n            corrects = [1 for i, pred in enumerate(predicted_labels_np) if (target_np[i]==pred)]\\n            correct_pred = sum(corrects)\\n            num_examples = target_np.shape[0]\\n\\n            print(f\"{correct_pred} out of {num_examples}\")\\n            print(\"-----------------------------------------------------------\")\\n\\n    with torch.set_grad_enabled(False):\\n        print(f\\'training accuracy: \\'\\n              f\\'{get_accuracy(model, train_loader, DEVICE):.2f}%\\')\\n        \\n    print(f\\'Time elapsed: {(time.time() - start_time)/60:.2f} min\\')\\n    \\nprint(f\\'Total Training Time: {(time.time() - start_time)/60:.2f} min\\')\\nprint(f\\'Test accuracy: {get_accuracy(model, test_loader, DEVICE):.2f}%\\')\\n'"
            ]
          },
          "execution_count": 7,
          "metadata": {},
          "output_type": "execute_result"
        }
      ],
      "source": [
        "# These following lines of code are if you want to use a model that takes both question and answer as inputs\n",
        "# As mentioned in the final report and presentation, this approach didn't yield any promising results\n",
        "# However, the format of the main parts of the code would be different. These are commented out\n",
        "'''\n",
        "class RNN(torch.nn.Module):\n",
        "\n",
        "    def __init__(self, input_dim_q, input_dim_a, embedding_dim, hidden_dim, output_dim):\n",
        "        super().__init__()\n",
        "\n",
        "        self.embedding_question = torch.nn.Embedding(input_dim_q, embedding_dim)\n",
        "        self.embedding_answer = torch.nn.Embedding(input_dim_a, embedding_dim)\n",
        "        self.rnn = torch.nn.LSTM(embedding_dim,\n",
        "                                 hidden_dim)        \n",
        "        self.fc = torch.nn.Linear(hidden_dim, output_dim)\n",
        "\n",
        "    def forward(self, question, question_length, answer, answer_length):        \n",
        "        embedded_question = self.embedding_question(question)        \n",
        "        embedded_answer = self.embedding_answer(answer)        \n",
        "        embedded = torch.cat((embedded_question, embedded_answer), dim=0)        \n",
        "        sorted_lengths, sorted_idx = torch.sort(question_length + answer_length, descending=True)\n",
        "        embedded = embedded[:, sorted_idx]        \n",
        "        packed = torch.nn.utils.rnn.pack_padded_sequence(embedded, sorted_lengths.to('cpu'))\n",
        "        packed_output, (hidden, cell) = self.rnn(packed)\n",
        "        hidden.squeeze_(0)        \n",
        "        _, original_idx = torch.sort(sorted_idx)\n",
        "        output = self.fc(hidden[original_idx])\n",
        "        return output\n",
        "        \n",
        "def get_accuracy(model, data_loader, device):\n",
        "\n",
        "    with torch.no_grad():\n",
        "        total_accuracy, num_batches = 0, 0\n",
        "        correct_pred, num_examples = 0, 0\n",
        "\n",
        "\n",
        "        for _, batch in enumerate(data_loader):\n",
        "\n",
        "            question, question_length = batch.question\n",
        "            answer, answer_length = batch.answer\n",
        "            target = batch.target.to(device)\n",
        "\n",
        "            odds = model(question, question_length, answer, answer_length)\n",
        "            probs = torch.sigmoid(odds)\n",
        "            predicted_labels = (probs > 0.5).float()\n",
        "\n",
        "            predicted_labels_np = predicted_labels.cpu().numpy()\n",
        "            target_np = target.cpu().numpy()\n",
        "\n",
        "            corrects = [1 for i, pred in enumerate(predicted_labels_np) if (target_np[i]==pred)]\n",
        "            correct_pred = sum(corrects)\n",
        "            num_examples = target_np.shape[0]\n",
        "\n",
        "            batch_accuracy = (correct_pred / num_examples) * 100\n",
        "\n",
        "            total_accuracy += batch_accuracy\n",
        "            num_batches += 1\n",
        "\n",
        "    return total_accuracy / num_batches\n",
        "    \n",
        "    \n",
        "input_dim_q = len(question_field.vocab)\n",
        "input_dim_a = len(answer_field.vocab)\n",
        "\n",
        "model = RNN(input_dim_q=input_dim_q,\n",
        "            input_dim_a=input_dim_a,\n",
        "            embedding_dim=params['emb_dim'],\n",
        "            hidden_dim=params['hid_dim'],\n",
        "            output_dim=params['out_dim'] # could use 1 for binary classification\n",
        ")\n",
        "\n",
        "\n",
        "\n",
        "model = model.to(DEVICE)\n",
        "optimizer = torch.optim.Adam(model.parameters(), lr=params['lr'])\n",
        "\n",
        "start_time = time.time()\n",
        "n_ep = params['epochs']\n",
        "\n",
        "for epoch in range(params['epochs']):\n",
        "    model.train()\n",
        "    for batch_id, batch_data in enumerate(train_loader):\n",
        "        \n",
        "        question, q_length = batch_data.question\n",
        "        answer, a_length = batch_data.answer\n",
        "        target = batch_data.target.to(DEVICE)\n",
        "\n",
        "        odds = model(question, q_length, answer, a_length)\n",
        "        probs = torch.sigmoid(odds)\n",
        "        predicted_labels = (probs > 0.5).float()\n",
        "        loss = nn.BCEWithLogitsLoss()(odds, target.unsqueeze(1).to(odds.dtype))\n",
        "        optimizer.zero_grad()\n",
        "        \n",
        "        loss.backward()\n",
        "        \n",
        "        optimizer.step()\n",
        "        \n",
        "        if not batch_id % 50:\n",
        "            print (f'Epoch: {epoch+1:03d}/{n_ep:03d} | '\n",
        "                   f'Batch {batch_id:03d}/{len(train_loader):03d} | '\n",
        "                   f'Loss: {loss:.4f}')\n",
        "            \n",
        "            predicted_labels_np = predicted_labels.cpu().numpy()\n",
        "            target_np = target.cpu().numpy()\n",
        "\n",
        "            corrects = [1 for i, pred in enumerate(predicted_labels_np) if (target_np[i]==pred)]\n",
        "            correct_pred = sum(corrects)\n",
        "            num_examples = target_np.shape[0]\n",
        "\n",
        "            print(f\"{correct_pred} out of {num_examples}\")\n",
        "            print(\"-----------------------------------------------------------\")\n",
        "\n",
        "    with torch.set_grad_enabled(False):\n",
        "        print(f'training accuracy: '\n",
        "              f'{get_accuracy(model, train_loader, DEVICE):.2f}%')\n",
        "        \n",
        "    print(f'Time elapsed: {(time.time() - start_time)/60:.2f} min')\n",
        "    \n",
        "print(f'Total Training Time: {(time.time() - start_time)/60:.2f} min')\n",
        "print(f'Test accuracy: {get_accuracy(model, test_loader, DEVICE):.2f}%')\n",
        "'''\n",
        "\n",
        "# Note that on top of replacing the desired blocks with the above,\n",
        "# some lines which are mentioned throughout the notebook (labeled \"for approach 1\")\n",
        "# need to be uncommented."
      ]
    },
    {
      "cell_type": "code",
      "execution_count": null,
      "id": "7a0a1804",
      "metadata": {
        "id": "7a0a1804"
      },
      "outputs": [],
      "source": [
        "torch.manual_seed(0)\n",
        "\n",
        "params = {\n",
        "    'emb_dim': 256,\n",
        "    'hid_dim': 256,\n",
        "    'out_dim': 1,\n",
        "    'n_layers': 2,\n",
        "    'dropout': 0.35,\n",
        "    'lr': 0.01,\n",
        "    'epochs': 13,\n",
        "    'batch_size': 128,\n",
        "    'test_prc': 0.2,\n",
        "    'num_filters': 100,          # For a CNN which I decided to not include\n",
        "    'filter_sizes': [2, 3, 4],   # For a CNN which I decided to not include\n",
        "}\n",
        "\n",
        "DEVICE = torch.device('cuda:0' if torch.cuda.is_available() else 'cpu')"
      ]
    },
    {
      "cell_type": "code",
      "execution_count": null,
      "id": "15be4537",
      "metadata": {
        "colab": {
          "base_uri": "https://localhost:8080/"
        },
        "id": "15be4537",
        "outputId": "ea255718-2d4f-45c1-b043-6f49814ac129"
      },
      "outputs": [
        {
          "name": "stderr",
          "output_type": "stream",
          "text": [
            "WARNING:datasets.builder:Found cached dataset json (/root/.cache/huggingface/datasets/json/default-7732dec91a887272/0.0.0/e347ab1c932092252e717ff3f949105a4dd28b27e842dd53157d2f72e276c2e4)\n"
          ]
        }
      ],
      "source": [
        "# Full dataset with list type columns in human and chatGPT answers\n",
        "dataset = load_dataset(\"json\", data_files=\"all.jsonl\", split=\"train\")\n",
        "df_full = dataset.to_pandas()\n",
        "\n",
        "data = []\n",
        "\n",
        "# Combining the human and GPT columns into one column \"answer\" which is type string\n",
        "# Making sure each question has the same ammount of human and chatGPT answers\n",
        "for i in range(len(df_full)):\n",
        "    question = df_full.loc[i, 'question']\n",
        "    j_min = min(len(df_full['human_answers'][i]), len(df_full['chatgpt_answers'][i]))\n",
        "    \n",
        "    for j in range(j_min):\n",
        "        h_ans = df_full.loc[i, 'human_answers'][j]\n",
        "        c_ans = df_full.loc[i, 'chatgpt_answers'][j]\n",
        "        \n",
        "        data.append({'question': question, 'answer': h_ans, 'target': 0})\n",
        "        data.append({'question': question, 'answer': c_ans, 'target': 1})\n",
        "\n",
        "# Making new dataset\n",
        "df = pd.DataFrame(data)\n",
        "\n",
        "# Dropping duplicates\n",
        "df = df.drop_duplicates()"
      ]
    },
    {
      "cell_type": "markdown",
      "id": "7689cca5",
      "metadata": {
        "id": "7689cca5"
      },
      "source": [
        "It seems like many chatgpt answers have special characters, but most human answers don't."
      ]
    },
    {
      "cell_type": "code",
      "execution_count": null,
      "id": "09d0178a",
      "metadata": {
        "colab": {
          "base_uri": "https://localhost:8080/"
        },
        "id": "09d0178a",
        "outputId": "c8f5fded-207d-450b-84a3-c02a1e9e5353"
      },
      "outputs": [
        {
          "name": "stdout",
          "output_type": "stream",
          "text": [
            "human answers with special characters: 650\n",
            "chatgpt answers with special characters: 7645\n",
            "questions with special characters: 0\n"
          ]
        }
      ],
      "source": [
        "human_answers, chatgpt_answers, _ = count_special_chars(df)"
      ]
    },
    {
      "cell_type": "code",
      "execution_count": null,
      "id": "29e4d44e",
      "metadata": {
        "colab": {
          "base_uri": "https://localhost:8080/",
          "height": 564
        },
        "id": "29e4d44e",
        "outputId": "6dbb1b88-e327-4a06-b8e6-a35c5227e183"
      },
      "outputs": [
        {
          "data": {
            "image/png": "[encoded data removed]",
            "text/plain": [
              "<Figure size 800x600 with 1 Axes>"
            ]
          },
          "metadata": {},
          "output_type": "display_data"
        }
      ],
      "source": [
        "# Plotting to visualize the difference\n",
        "labels = ['Human Answers', 'ChatGPT Answers']\n",
        "\n",
        "fig, ax = plt.subplots(figsize=(8, 6))\n",
        "\n",
        "ax.bar(labels, [human_answers, chatgpt_answers])\n",
        "\n",
        "ax.set_title('Special Characters')\n",
        "\n",
        "ax.set_xlabel('Answers')\n",
        "ax.set_ylabel('Frequency')\n",
        "\n",
        "ax.text(0, human_answers, human_answers, ha='center', va='bottom')\n",
        "ax.text(1, chatgpt_answers, chatgpt_answers, ha='center', va='bottom')\n",
        "\n",
        "plt.show()"
      ]
    },
    {
      "cell_type": "markdown",
      "id": "afab1e4a",
      "metadata": {
        "id": "afab1e4a"
      },
      "source": [
        "This could be due to the way the data was collected and the different sources.<br>\n",
        "Having this significance of a difference could result in noise and bias, <br>\n",
        "Therefore it could be a good idea to replace these special characters."
      ]
    },
    {
      "cell_type": "code",
      "execution_count": null,
      "id": "d120056d",
      "metadata": {
        "colab": {
          "base_uri": "https://localhost:8080/"
        },
        "id": "d120056d",
        "outputId": "0004650d-6473-4968-c1c6-c691bc863418"
      },
      "outputs": [
        {
          "name": "stdout",
          "output_type": "stream",
          "text": [
            "human answers with special characters: 0\n",
            "chatgpt answers with special characters: 0\n",
            "questions with special characters: 0\n"
          ]
        }
      ],
      "source": [
        "human_answers, chatgpt_answers, _ = count_special_chars(df, replace=True)"
      ]
    },
    {
      "cell_type": "code",
      "execution_count": null,
      "id": "c26c42d0",
      "metadata": {
        "id": "c26c42d0"
      },
      "outputs": [],
      "source": [
        "# shuffling the dataset\n",
        "shuffled_df = df.sample(frac=1, random_state=13)\n",
        "\n",
        "# For approach 1:\n",
        "    # save shuffled df as a csv file and use that instead of sh_2.csv\n",
        "    \n",
        "# For normal approach:\n",
        "    # Drop the question column\n",
        "sh_2 = shuffled_df.drop('question', axis=1)\n",
        "\n",
        "    # Save as csv\n",
        "# sh_2.to_csv('sh_2.csv', index=False)"
      ]
    },
    {
      "cell_type": "code",
      "execution_count": null,
      "id": "831e23f6",
      "metadata": {
        "id": "831e23f6"
      },
      "outputs": [],
      "source": [
        "# question_field = torchtext.data.Field(tokenize='spacy', tokenizer_language='en_core_web_sm', include_lengths=True) # Approach 1\n",
        "answer_field = torchtext.data.Field(tokenize='spacy', tokenizer_language='en_core_web_sm', include_lengths=True)\n",
        "label_field = torchtext.data.LabelField(dtype=torch.long)\n",
        "\n",
        "# fields = [('question', question_field), ('answer', answer_field), ('target', label_field)] # Approach 1\n",
        "fields = [('answer', answer_field), ('target', label_field)]\n",
        "\n",
        "dataset = torchtext.data.TabularDataset(path='sh_2.csv', format='csv', skip_header=True, fields=fields)"
      ]
    },
    {
      "cell_type": "code",
      "execution_count": null,
      "id": "3f526893",
      "metadata": {
        "id": "3f526893"
      },
      "outputs": [],
      "source": [
        "# Splitting dataset to training and testing\n",
        "train_data, test_data = dataset.split(split_ratio=[1-params['test_prc'], params['test_prc']],random_state=random.seed(13))"
      ]
    },
    {
      "cell_type": "code",
      "execution_count": null,
      "id": "78dac9d9",
      "metadata": {
        "colab": {
          "base_uri": "https://localhost:8080/"
        },
        "id": "78dac9d9",
        "outputId": "3aa73c4a-ff25-4fa4-c420-a32a352716f4"
      },
      "outputs": [
        {
          "name": "stdout",
          "output_type": "stream",
          "text": [
            "Vocabulary size: 83952\n",
            "Number of classes: 2\n"
          ]
        }
      ],
      "source": [
        "# question_field.build_vocab(train_data)  # Approach 1\n",
        "answer_field.build_vocab(train_data)\n",
        "label_field.build_vocab(train_data)\n",
        "\n",
        "# print(f'Vocabulary size: {len(question_field.vocab)}')  # Approach 1\n",
        "print(f'Vocabulary size: {len(answer_field.vocab)}')\n",
        "print(f'Number of classes: {len(label_field.vocab)}')\n",
        "\n",
        "# Note that the way the label field worked, it mapped 0s to 1s and 1s to 0s\n",
        "# which means it's the opposite of the target column (0s are chatGPT, 1s are human)"
      ]
    },
    {
      "cell_type": "code",
      "execution_count": null,
      "id": "9b648665",
      "metadata": {
        "id": "9b648665"
      },
      "outputs": [],
      "source": [
        "train_loader, test_loader = torchtext.data.BucketIterator.splits(\n",
        "        (train_data, test_data), \n",
        "        batch_size=params['batch_size'],\n",
        "        sort_within_batch=True,\n",
        "        sort_key=lambda x: len(x.answer),\n",
        "        device=DEVICE\n",
        ")"
      ]
    },
    {
      "cell_type": "code",
      "execution_count": null,
      "id": "9151a8b0",
      "metadata": {
        "id": "9151a8b0"
      },
      "outputs": [],
      "source": [
        "input_dim = len(answer_field.vocab)\n",
        "\n",
        "# Basic RNN\n",
        "model = RNN(input_dim=input_dim,\n",
        "            embedding_dim=params['emb_dim'],\n",
        "            hidden_dim=params['hid_dim'],\n",
        "            output_dim=params['out_dim']\n",
        ")\n",
        "\n",
        "# 2 layer RNN\n",
        "#model = RNN_2(input_dim=input_dim,\n",
        "#            embedding_dim=params['emb_dim'],\n",
        "#            hidden_dim=params['hid_dim'],\n",
        "#            output_dim=params['out_dim'],\n",
        "#            n_layers=params['n_layers'],\n",
        "#            dropout_rate=params['dropout']\n",
        "#)\n",
        "\n",
        "model = model.to(DEVICE)\n",
        "optimizer = torch.optim.Adam(model.parameters(), lr=params['lr'])"
      ]
    },
    {
      "cell_type": "code",
      "execution_count": null,
      "id": "32f3ed75",
      "metadata": {
        "colab": {
          "base_uri": "https://localhost:8080/"
        },
        "id": "32f3ed75",
        "outputId": "93988353-a69f-4188-ec5d-90c153267df4"
      },
      "outputs": [
        {
          "name": "stdout",
          "output_type": "stream",
          "text": [
            "Epoch: 001/013 | Batch 000/285 | Loss: 0.7209\n",
            "31 out of 128\n",
            "-----------------------------------------------------------\n",
            "Epoch: 001/013 | Batch 050/285 | Loss: 0.8517\n",
            "5 out of 128\n",
            "-----------------------------------------------------------\n",
            "Epoch: 001/013 | Batch 100/285 | Loss: 0.7492\n",
            "44 out of 128\n",
            "-----------------------------------------------------------\n",
            "Epoch: 001/013 | Batch 150/285 | Loss: 0.5666\n",
            "97 out of 128\n",
            "-----------------------------------------------------------\n",
            "Epoch: 001/013 | Batch 200/285 | Loss: 0.4061\n",
            "106 out of 128\n",
            "-----------------------------------------------------------\n",
            "Epoch: 001/013 | Batch 250/285 | Loss: 0.2442\n",
            "115 out of 128\n",
            "-----------------------------------------------------------\n",
            "training accuracy: 94.75%\n",
            "Time elapsed: 0.20 min\n",
            "Epoch: 002/013 | Batch 000/285 | Loss: 0.1626\n",
            "121 out of 128\n",
            "-----------------------------------------------------------\n",
            "Epoch: 002/013 | Batch 050/285 | Loss: 0.0798\n",
            "123 out of 128\n",
            "-----------------------------------------------------------\n",
            "Epoch: 002/013 | Batch 100/285 | Loss: 0.1492\n",
            "122 out of 128\n",
            "-----------------------------------------------------------\n",
            "Epoch: 002/013 | Batch 150/285 | Loss: 0.1822\n",
            "120 out of 128\n",
            "-----------------------------------------------------------\n",
            "Epoch: 002/013 | Batch 200/285 | Loss: 0.1357\n",
            "122 out of 128\n",
            "-----------------------------------------------------------\n",
            "Epoch: 002/013 | Batch 250/285 | Loss: 0.1133\n",
            "122 out of 128\n",
            "-----------------------------------------------------------\n",
            "training accuracy: 98.01%\n",
            "Time elapsed: 0.40 min\n",
            "Epoch: 003/013 | Batch 000/285 | Loss: 0.0323\n",
            "128 out of 128\n",
            "-----------------------------------------------------------\n",
            "Epoch: 003/013 | Batch 050/285 | Loss: 0.1289\n",
            "121 out of 128\n",
            "-----------------------------------------------------------\n",
            "Epoch: 003/013 | Batch 100/285 | Loss: 0.0376\n",
            "125 out of 128\n",
            "-----------------------------------------------------------\n",
            "Epoch: 003/013 | Batch 150/285 | Loss: 0.1068\n",
            "121 out of 128\n",
            "-----------------------------------------------------------\n",
            "Epoch: 003/013 | Batch 200/285 | Loss: 0.0544\n",
            "126 out of 128\n",
            "-----------------------------------------------------------\n",
            "Epoch: 003/013 | Batch 250/285 | Loss: 0.0599\n",
            "125 out of 128\n",
            "-----------------------------------------------------------\n",
            "training accuracy: 98.77%\n",
            "Time elapsed: 0.60 min\n",
            "Epoch: 004/013 | Batch 000/285 | Loss: 0.0200\n",
            "128 out of 128\n",
            "-----------------------------------------------------------\n",
            "Epoch: 004/013 | Batch 050/285 | Loss: 0.0484\n",
            "127 out of 128\n",
            "-----------------------------------------------------------\n",
            "Epoch: 004/013 | Batch 100/285 | Loss: 0.0279\n",
            "127 out of 128\n",
            "-----------------------------------------------------------\n",
            "Epoch: 004/013 | Batch 150/285 | Loss: 0.0154\n",
            "128 out of 128\n",
            "-----------------------------------------------------------\n",
            "Epoch: 004/013 | Batch 200/285 | Loss: 0.0157\n",
            "128 out of 128\n",
            "-----------------------------------------------------------\n",
            "Epoch: 004/013 | Batch 250/285 | Loss: 0.0375\n",
            "126 out of 128\n",
            "-----------------------------------------------------------\n",
            "training accuracy: 99.26%\n",
            "Time elapsed: 0.81 min\n",
            "Epoch: 005/013 | Batch 000/285 | Loss: 0.0163\n",
            "128 out of 128\n",
            "-----------------------------------------------------------\n",
            "Epoch: 005/013 | Batch 050/285 | Loss: 0.0927\n",
            "125 out of 128\n",
            "-----------------------------------------------------------\n",
            "Epoch: 005/013 | Batch 100/285 | Loss: 0.0424\n",
            "126 out of 128\n",
            "-----------------------------------------------------------\n",
            "Epoch: 005/013 | Batch 150/285 | Loss: 0.0391\n",
            "127 out of 128\n",
            "-----------------------------------------------------------\n",
            "Epoch: 005/013 | Batch 200/285 | Loss: 0.1505\n",
            "122 out of 128\n",
            "-----------------------------------------------------------\n",
            "Epoch: 005/013 | Batch 250/285 | Loss: 0.0878\n",
            "124 out of 128\n",
            "-----------------------------------------------------------\n",
            "training accuracy: 99.36%\n",
            "Time elapsed: 1.01 min\n",
            "Epoch: 006/013 | Batch 000/285 | Loss: 0.0129\n",
            "128 out of 128\n",
            "-----------------------------------------------------------\n",
            "Epoch: 006/013 | Batch 050/285 | Loss: 0.0289\n",
            "125 out of 128\n",
            "-----------------------------------------------------------\n",
            "Epoch: 006/013 | Batch 100/285 | Loss: 0.0387\n",
            "126 out of 128\n",
            "-----------------------------------------------------------\n",
            "Epoch: 006/013 | Batch 150/285 | Loss: 0.0372\n",
            "126 out of 128\n",
            "-----------------------------------------------------------\n",
            "Epoch: 006/013 | Batch 200/285 | Loss: 0.0142\n",
            "128 out of 128\n",
            "-----------------------------------------------------------\n",
            "Epoch: 006/013 | Batch 250/285 | Loss: 0.0080\n",
            "128 out of 128\n",
            "-----------------------------------------------------------\n",
            "training accuracy: 99.48%\n",
            "Time elapsed: 1.21 min\n",
            "Epoch: 007/013 | Batch 000/285 | Loss: 0.0106\n",
            "128 out of 128\n",
            "-----------------------------------------------------------\n",
            "Epoch: 007/013 | Batch 050/285 | Loss: 0.0047\n",
            "128 out of 128\n",
            "-----------------------------------------------------------\n",
            "Epoch: 007/013 | Batch 100/285 | Loss: 0.0077\n",
            "128 out of 128\n",
            "-----------------------------------------------------------\n",
            "Epoch: 007/013 | Batch 150/285 | Loss: 0.0078\n",
            "128 out of 128\n",
            "-----------------------------------------------------------\n",
            "Epoch: 007/013 | Batch 200/285 | Loss: 0.0459\n",
            "126 out of 128\n",
            "-----------------------------------------------------------\n",
            "Epoch: 007/013 | Batch 250/285 | Loss: 0.0211\n",
            "127 out of 128\n",
            "-----------------------------------------------------------\n",
            "training accuracy: 99.69%\n",
            "Time elapsed: 1.41 min\n",
            "Epoch: 008/013 | Batch 000/285 | Loss: 0.0280\n",
            "126 out of 128\n",
            "-----------------------------------------------------------\n",
            "Epoch: 008/013 | Batch 050/285 | Loss: 0.0222\n",
            "127 out of 128\n",
            "-----------------------------------------------------------\n",
            "Epoch: 008/013 | Batch 100/285 | Loss: 0.0078\n",
            "128 out of 128\n",
            "-----------------------------------------------------------\n",
            "Epoch: 008/013 | Batch 150/285 | Loss: 0.0012\n",
            "128 out of 128\n",
            "-----------------------------------------------------------\n",
            "Epoch: 008/013 | Batch 200/285 | Loss: 0.0320\n",
            "126 out of 128\n",
            "-----------------------------------------------------------\n",
            "Epoch: 008/013 | Batch 250/285 | Loss: 0.0089\n",
            "128 out of 128\n",
            "-----------------------------------------------------------\n",
            "training accuracy: 99.53%\n",
            "Time elapsed: 1.62 min\n",
            "Epoch: 009/013 | Batch 000/285 | Loss: 0.0413\n",
            "127 out of 128\n",
            "-----------------------------------------------------------\n",
            "Epoch: 009/013 | Batch 050/285 | Loss: 0.0419\n",
            "126 out of 128\n",
            "-----------------------------------------------------------\n",
            "Epoch: 009/013 | Batch 100/285 | Loss: 0.0095\n",
            "127 out of 128\n",
            "-----------------------------------------------------------\n",
            "Epoch: 009/013 | Batch 150/285 | Loss: 0.0640\n",
            "125 out of 128\n",
            "-----------------------------------------------------------\n",
            "Epoch: 009/013 | Batch 200/285 | Loss: 0.0033\n",
            "128 out of 128\n",
            "-----------------------------------------------------------\n",
            "Epoch: 009/013 | Batch 250/285 | Loss: 0.0015\n",
            "128 out of 128\n",
            "-----------------------------------------------------------\n",
            "training accuracy: 99.73%\n",
            "Time elapsed: 1.82 min\n",
            "Epoch: 010/013 | Batch 000/285 | Loss: 0.0022\n",
            "128 out of 128\n",
            "-----------------------------------------------------------\n",
            "Epoch: 010/013 | Batch 050/285 | Loss: 0.0007\n",
            "128 out of 128\n",
            "-----------------------------------------------------------\n",
            "Epoch: 010/013 | Batch 100/285 | Loss: 0.0013\n",
            "128 out of 128\n",
            "-----------------------------------------------------------\n",
            "Epoch: 010/013 | Batch 150/285 | Loss: 0.0387\n",
            "126 out of 128\n",
            "-----------------------------------------------------------\n",
            "Epoch: 010/013 | Batch 200/285 | Loss: 0.0206\n",
            "127 out of 128\n",
            "-----------------------------------------------------------\n",
            "Epoch: 010/013 | Batch 250/285 | Loss: 0.0025\n",
            "128 out of 128\n",
            "-----------------------------------------------------------\n",
            "training accuracy: 99.78%\n",
            "Time elapsed: 2.02 min\n",
            "Epoch: 011/013 | Batch 000/285 | Loss: 0.0067\n",
            "128 out of 128\n",
            "-----------------------------------------------------------\n",
            "Epoch: 011/013 | Batch 050/285 | Loss: 0.0017\n",
            "128 out of 128\n",
            "-----------------------------------------------------------\n",
            "Epoch: 011/013 | Batch 100/285 | Loss: 0.0023\n",
            "128 out of 128\n",
            "-----------------------------------------------------------\n",
            "Epoch: 011/013 | Batch 150/285 | Loss: 0.0055\n",
            "128 out of 128\n",
            "-----------------------------------------------------------\n",
            "Epoch: 011/013 | Batch 200/285 | Loss: 0.0010\n",
            "128 out of 128\n",
            "-----------------------------------------------------------\n",
            "Epoch: 011/013 | Batch 250/285 | Loss: 0.0040\n",
            "128 out of 128\n",
            "-----------------------------------------------------------\n",
            "training accuracy: 99.26%\n",
            "Time elapsed: 2.23 min\n",
            "Epoch: 012/013 | Batch 000/285 | Loss: 0.0171\n",
            "127 out of 128\n",
            "-----------------------------------------------------------\n",
            "Epoch: 012/013 | Batch 050/285 | Loss: 0.0108\n",
            "127 out of 128\n",
            "-----------------------------------------------------------\n",
            "Epoch: 012/013 | Batch 100/285 | Loss: 0.0007\n",
            "128 out of 128\n",
            "-----------------------------------------------------------\n",
            "Epoch: 012/013 | Batch 150/285 | Loss: 0.0285\n",
            "127 out of 128\n",
            "-----------------------------------------------------------\n",
            "Epoch: 012/013 | Batch 200/285 | Loss: 0.0018\n",
            "128 out of 128\n",
            "-----------------------------------------------------------\n",
            "Epoch: 012/013 | Batch 250/285 | Loss: 0.0277\n",
            "126 out of 128\n",
            "-----------------------------------------------------------\n",
            "training accuracy: 99.57%\n",
            "Time elapsed: 2.43 min\n",
            "Epoch: 013/013 | Batch 000/285 | Loss: 0.0233\n",
            "127 out of 128\n",
            "-----------------------------------------------------------\n",
            "Epoch: 013/013 | Batch 050/285 | Loss: 0.0034\n",
            "128 out of 128\n",
            "-----------------------------------------------------------\n",
            "Epoch: 013/013 | Batch 100/285 | Loss: 0.0012\n",
            "128 out of 128\n",
            "-----------------------------------------------------------\n",
            "Epoch: 013/013 | Batch 150/285 | Loss: 0.0245\n",
            "126 out of 128\n",
            "-----------------------------------------------------------\n",
            "Epoch: 013/013 | Batch 200/285 | Loss: 0.0168\n",
            "127 out of 128\n",
            "-----------------------------------------------------------\n",
            "Epoch: 013/013 | Batch 250/285 | Loss: 0.0031\n",
            "128 out of 128\n",
            "-----------------------------------------------------------\n",
            "training accuracy: 99.54%\n",
            "Time elapsed: 2.63 min\n",
            "Total Training Time: 2.63 min\n",
            "Test accuracy: 96.04%\n"
          ]
        }
      ],
      "source": [
        "start_time = time.time()\n",
        "n_ep = params['epochs']\n",
        "\n",
        "for epoch in range(n_ep):\n",
        "    model.train()\n",
        "    for batch_idx, batch_data in enumerate(train_loader):\n",
        "        \n",
        "        answer, _ = batch_data.answer\n",
        "        target = batch_data.target.to(DEVICE)\n",
        "\n",
        "        odds = model(answer)\n",
        "        probs = torch.sigmoid(odds)\n",
        "        predicted_labels = (probs > 0.5).float()\n",
        "        loss = nn.BCEWithLogitsLoss()(odds, target.unsqueeze(1).to(odds.dtype))\n",
        "        optimizer.zero_grad()\n",
        "        \n",
        "        loss.backward()\n",
        "        \n",
        "        optimizer.step()\n",
        "        \n",
        "        if not batch_idx % 50:\n",
        "            print (f'Epoch: {epoch+1:03d}/{n_ep:03d} | '\n",
        "                   f'Batch {batch_idx:03d}/{len(train_loader):03d} | '\n",
        "                   f'Loss: {loss:.4f}')\n",
        "            \n",
        "            predicted_labels_np = predicted_labels.cpu().numpy()\n",
        "            target_np = target.cpu().numpy()\n",
        "\n",
        "            corrects = [1 for i, pred in enumerate(predicted_labels_np) if (target_np[i]==pred)]\n",
        "            correct_pred = sum(corrects)\n",
        "            num_examples = target_np.shape[0]\n",
        "\n",
        "            print(f\"{correct_pred} out of {num_examples}\")\n",
        "            print(\"-----------------------------------------------------------\")\n",
        "\n",
        "    with torch.set_grad_enabled(False):\n",
        "        print(f'training accuracy: '\n",
        "              f'{get_accuracy(model, train_loader, DEVICE):.2f}%')\n",
        "        \n",
        "    print(f'Time elapsed: {(time.time() - start_time)/60:.2f} min')\n",
        "    \n",
        "print(f'Total Training Time: {(time.time() - start_time)/60:.2f} min')\n",
        "print(f'Test accuracy: {get_accuracy(model, test_loader, DEVICE):.2f}%')"
      ]
    },
    {
      "cell_type": "code",
      "execution_count": null,
      "id": "59c4d97a",
      "metadata": {
        "id": "59c4d97a"
      },
      "outputs": [],
      "source": [
        "nlp = spacy.blank(\"en\")\n",
        "\n",
        "# Function to test the model on any given text\n",
        "def predict_BotOrNot(model, text):\n",
        "    '''\n",
        "    Function to test a text-classifying model on any given text\n",
        "    '''\n",
        "    model.eval()\n",
        "    \n",
        "    tokenized = [tok.text for tok in nlp.tokenizer(text)]\n",
        "    indexed = [answer_field.vocab.stoi[t] for t in tokenized]\n",
        "    length = [len(indexed)]\n",
        "    tensor = torch.LongTensor(indexed).to(DEVICE)\n",
        "    tensor = tensor.unsqueeze(1)\n",
        "    length_tensor = torch.LongTensor(length)\n",
        "    prediction = torch.sigmoid(model(tensor))\n",
        "    \n",
        "    return (prediction[0][0].item())"
      ]
    },
    {
      "cell_type": "code",
      "execution_count": null,
      "id": "9da0d4f2",
      "metadata": {
        "colab": {
          "base_uri": "https://localhost:8080/"
        },
        "id": "9da0d4f2",
        "outputId": "2264e110-b1c0-46bb-885b-568159380d6e"
      },
      "outputs": [
        {
          "name": "stdout",
          "output_type": "stream",
          "text": [
            "Probability of being human: 0.00014332136197481304\n"
          ]
        }
      ],
      "source": [
        "# Example 1 - chatGPT decribing football\n",
        "pred = predict_BotOrNot(model, \"Football is a popular team sport played between two teams of eleven players, with the objective of scoring goals by kicking a ball into the opposing team's goalpost. The game is played on a rectangular field and involves passing, dribbling, and shooting skills. Football is a highly competitive and physically demanding sport, enjoyed by millions of fans worldwide.\")\n",
        "print(f'Probability of being human: {pred}')"
      ]
    },
    {
      "cell_type": "code",
      "execution_count": null,
      "id": "81rW-0DBVZrq",
      "metadata": {
        "colab": {
          "base_uri": "https://localhost:8080/"
        },
        "id": "81rW-0DBVZrq",
        "outputId": "ef484117-f1a5-4cee-b803-52a08db6d3b6"
      },
      "outputs": [
        {
          "name": "stdout",
          "output_type": "stream",
          "text": [
            "Probability of being human: 0.9733949899673462\n"
          ]
        }
      ],
      "source": [
        "# Example 2 - Human (me) decribing football\n",
        "pred = predict_BotOrNot(model, \"Football is probably the most popular sport in the world. There are eleven players in each team.\")\n",
        "print(f'Probability of being human: {pred}')"
      ]
    },
    {
      "cell_type": "code",
      "execution_count": null,
      "id": "KeuLxfeIPW_J",
      "metadata": {
        "id": "KeuLxfeIPW_J"
      },
      "outputs": [],
      "source": []
    }
  ],
  "metadata": {
    "accelerator": "GPU",
    "colab": {
      "provenance": []
    },
    "gpuClass": "premium",
    "kernelspec": {
      "display_name": "Python 3 (ipykernel)",
      "language": "python",
      "name": "python3"
    },
    "language_info": {
      "codemirror_mode": {
        "name": "ipython",
        "version": 3
      },
      "file_extension": ".py",
      "mimetype": "text/x-python",
      "name": "python",
      "nbconvert_exporter": "python",
      "pygments_lexer": "ipython3",
      "version": "3.9.12"
    }
  },
  "nbformat": 4,
  "nbformat_minor": 5
}
